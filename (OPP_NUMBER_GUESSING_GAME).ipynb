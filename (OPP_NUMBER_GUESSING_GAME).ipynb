{
 "cells": [
  {
   "cell_type": "code",
   "execution_count": 2,
   "id": "3350095a-ef07-465c-8e4d-729c1639a4b6",
   "metadata": {},
   "outputs": [],
   "source": [
    "import random\n",
    "\n",
    "class number_guess:\n",
    "    \n",
    "    def __init__(self, moves, guess, name, id):\n",
    "        self.moves = moves\n",
    "        self.guess = guess\n",
    "        self.name = name\n",
    "        self.id = id\n",
    "\n",
    "    def intro(self):\n",
    "        self.name = input('Enter Your Name: ')\n",
    "        self.id = input('Enter Your Id: ')\n",
    "        print(f'Wellocome To Number Guessing Game Mr : {self.name}')\n",
    "        print(f'Your Id Is : {self.id}')\n",
    "\n",
    "    def random_number(self):\n",
    "        print('\\n----------------------------------------')\n",
    "        print(f'Mr : {self.name} Lets Play The Game  ')\n",
    "        print(f'Are You Ready Mr:{self.name} :  ')\n",
    "        print('----------------------------------------\\n')\n",
    "        ask = input('Press ----(Yes = y / No = n): ').lower()\n",
    "        if ask != 'y':\n",
    "            return  print('I hope You Are Not Free') # Changed 'break' to 'return' to exit the method\n",
    "        else: \n",
    "            print('')\n",
    "            while True:\n",
    "                self.random = random.randint(0, 6)          # pick a new target\n",
    "                try:\n",
    "                    self.guess = int(input(\"Enter a number 0‑6 (10 to quit): \"))\n",
    "                except ValueError:\n",
    "                    print(\"❌  Please enter a valid integer.\")\n",
    "                    continue\n",
    "        \n",
    "                if self.guess == 10:                               # quit condition\n",
    "                    print(\"Thanks for playing!\")\n",
    "                    break\n",
    "                elif self.guess == self.random:                   # correct guess\n",
    "                    print(\"✅  Correct!\")\n",
    "                    self.moves += 1\n",
    "                    self.result()  # Changed 'n.result()' to 'self.result()'\n",
    "                    break\n",
    "                else:\n",
    "                    print(\"❌  Incorrect.\")\n",
    "                    print(f\"(The number was {self.random})\")\n",
    "                    self.moves += 1\n",
    "    \n",
    "    def result(self):\n",
    "        print(f'Congratulations Your Guess {self.guess} Is Correct: .')\n",
    "        print(f'You Find The Right Guess In {self.moves} Moves.')"
   ]
  },
  {
   "cell_type": "code",
   "execution_count": 4,
   "id": "9e423713-1269-4a54-b121-8db0173c5088",
   "metadata": {},
   "outputs": [],
   "source": [
    "n = number_guess(0,0,0,0)"
   ]
  },
  {
   "cell_type": "code",
   "execution_count": 6,
   "id": "eab1f38e-83e1-42f8-a0d6-80c29d66b41b",
   "metadata": {},
   "outputs": [
    {
     "name": "stdin",
     "output_type": "stream",
     "text": [
      "Enter Your Name:  Asad\n",
      "Enter Your Id:  123\n"
     ]
    },
    {
     "name": "stdout",
     "output_type": "stream",
     "text": [
      "Wellocome To Number Guessing Game Mr : Asad\n",
      "Your Id Is : 123\n",
      "\n",
      "----------------------------------------\n",
      "Mr : Asad Lets Play The Game  \n",
      "Are You Ready Mr:Asad :  \n",
      "----------------------------------------\n",
      "\n"
     ]
    },
    {
     "name": "stdin",
     "output_type": "stream",
     "text": [
      "Press ----(Yes = y / No = n):  y\n"
     ]
    },
    {
     "name": "stdout",
     "output_type": "stream",
     "text": [
      "\n"
     ]
    },
    {
     "name": "stdin",
     "output_type": "stream",
     "text": [
      "Enter a number 0‑6 (10 to quit):  3\n"
     ]
    },
    {
     "name": "stdout",
     "output_type": "stream",
     "text": [
      "❌  Incorrect.\n",
      "(The number was 5)\n"
     ]
    },
    {
     "name": "stdin",
     "output_type": "stream",
     "text": [
      "Enter a number 0‑6 (10 to quit):  2\n"
     ]
    },
    {
     "name": "stdout",
     "output_type": "stream",
     "text": [
      "❌  Incorrect.\n",
      "(The number was 5)\n"
     ]
    },
    {
     "name": "stdin",
     "output_type": "stream",
     "text": [
      "Enter a number 0‑6 (10 to quit):  3\n"
     ]
    },
    {
     "name": "stdout",
     "output_type": "stream",
     "text": [
      "❌  Incorrect.\n",
      "(The number was 0)\n"
     ]
    },
    {
     "name": "stdin",
     "output_type": "stream",
     "text": [
      "Enter a number 0‑6 (10 to quit):  4\n"
     ]
    },
    {
     "name": "stdout",
     "output_type": "stream",
     "text": [
      "❌  Incorrect.\n",
      "(The number was 2)\n"
     ]
    },
    {
     "name": "stdin",
     "output_type": "stream",
     "text": [
      "Enter a number 0‑6 (10 to quit):  5\n"
     ]
    },
    {
     "name": "stdout",
     "output_type": "stream",
     "text": [
      "❌  Incorrect.\n",
      "(The number was 1)\n"
     ]
    },
    {
     "name": "stdin",
     "output_type": "stream",
     "text": [
      "Enter a number 0‑6 (10 to quit):  1\n"
     ]
    },
    {
     "name": "stdout",
     "output_type": "stream",
     "text": [
      "❌  Incorrect.\n",
      "(The number was 6)\n"
     ]
    },
    {
     "name": "stdin",
     "output_type": "stream",
     "text": [
      "Enter a number 0‑6 (10 to quit):  2\n"
     ]
    },
    {
     "name": "stdout",
     "output_type": "stream",
     "text": [
      "❌  Incorrect.\n",
      "(The number was 0)\n"
     ]
    },
    {
     "name": "stdin",
     "output_type": "stream",
     "text": [
      "Enter a number 0‑6 (10 to quit):  3\n"
     ]
    },
    {
     "name": "stdout",
     "output_type": "stream",
     "text": [
      "❌  Incorrect.\n",
      "(The number was 0)\n"
     ]
    },
    {
     "name": "stdin",
     "output_type": "stream",
     "text": [
      "Enter a number 0‑6 (10 to quit):  4\n"
     ]
    },
    {
     "name": "stdout",
     "output_type": "stream",
     "text": [
      "❌  Incorrect.\n",
      "(The number was 6)\n"
     ]
    },
    {
     "name": "stdin",
     "output_type": "stream",
     "text": [
      "Enter a number 0‑6 (10 to quit):  5\n"
     ]
    },
    {
     "name": "stdout",
     "output_type": "stream",
     "text": [
      "❌  Incorrect.\n",
      "(The number was 4)\n"
     ]
    },
    {
     "name": "stdin",
     "output_type": "stream",
     "text": [
      "Enter a number 0‑6 (10 to quit):  6\n"
     ]
    },
    {
     "name": "stdout",
     "output_type": "stream",
     "text": [
      "✅  Correct!\n",
      "Congratulations Your Guess 6 Is Correct: .\n",
      "You Find The Right Guess In 11 Moves.\n"
     ]
    }
   ],
   "source": [
    "n.intro()\n",
    "n.random_number()"
   ]
  },
  {
   "cell_type": "code",
   "execution_count": null,
   "id": "91584430-d1e1-489f-908d-0c9ee375398e",
   "metadata": {},
   "outputs": [],
   "source": []
  }
 ],
 "metadata": {
  "kernelspec": {
   "display_name": "Python [conda env:base] *",
   "language": "python",
   "name": "conda-base-py"
  },
  "language_info": {
   "codemirror_mode": {
    "name": "ipython",
    "version": 3
   },
   "file_extension": ".py",
   "mimetype": "text/x-python",
   "name": "python",
   "nbconvert_exporter": "python",
   "pygments_lexer": "ipython3",
   "version": "3.12.7"
  }
 },
 "nbformat": 4,
 "nbformat_minor": 5
}
